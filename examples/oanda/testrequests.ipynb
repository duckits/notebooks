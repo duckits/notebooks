{
 "cells": [
  {
   "cell_type": "code",
   "execution_count": 1,
   "id": "dd3a0a6c-d9de-4860-88b7-df9c4e042e9a",
   "metadata": {},
   "outputs": [],
   "source": [
    " import requests"
   ]
  },
  {
   "cell_type": "code",
   "execution_count": 2,
   "id": "ed7a4a1f-9049-4d78-9971-9236e4ca2cf8",
   "metadata": {},
   "outputs": [],
   "source": [
    " r = requests.get('https://www.python.org')"
   ]
  },
  {
   "cell_type": "code",
   "execution_count": 3,
   "id": "082cdcb5-24f2-4905-b801-930a57485f5d",
   "metadata": {},
   "outputs": [
    {
     "data": {
      "text/plain": [
       "200"
      ]
     },
     "execution_count": 3,
     "metadata": {},
     "output_type": "execute_result"
    }
   ],
   "source": [
    " r.status_code"
   ]
  },
  {
   "cell_type": "code",
   "execution_count": null,
   "id": "41d91a87-5af0-46ff-8e62-acab37ef175f",
   "metadata": {},
   "outputs": [],
   "source": []
  }
 ],
 "metadata": {
  "kernelspec": {
   "display_name": "Python 3 (ipykernel)",
   "language": "python",
   "name": "python3"
  },
  "language_info": {
   "codemirror_mode": {
    "name": "ipython",
    "version": 3
   },
   "file_extension": ".py",
   "mimetype": "text/x-python",
   "name": "python",
   "nbconvert_exporter": "python",
   "pygments_lexer": "ipython3",
   "version": "3.10.5"
  }
 },
 "nbformat": 4,
 "nbformat_minor": 5
}
