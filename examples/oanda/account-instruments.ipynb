{
 "cells": [
  {
   "cell_type": "code",
   "execution_count": 1,
   "id": "de41cba6-7e12-461f-9880-b1a35422ce89",
   "metadata": {},
   "outputs": [],
   "source": [
    "import sys\n",
    "sys.path.append('../../')\n",
    "from fxtrade.broker.oanda import Oanda\n",
    "import json"
   ]
  },
  {
   "cell_type": "code",
   "execution_count": 2,
   "id": "fb3d8abe-6458-446d-b388-38149dccbece",
   "metadata": {},
   "outputs": [],
   "source": [
    "client = Oanda()"
   ]
  },
  {
   "cell_type": "code",
   "execution_count": 3,
   "id": "6619121c-0bae-492e-b8e7-e02ab31b48d3",
   "metadata": {},
   "outputs": [
    {
     "name": "stdout",
     "output_type": "stream",
     "text": [
      "(False, {'Exception': MissingSchema(\"Invalid URL 'None/accounts/None/instruments': No scheme supplied. Perhaps you meant http://None/accounts/None/instruments?\")})\n"
     ]
    },
    {
     "ename": "TypeError",
     "evalue": "tuple indices must be integers or slices, not str",
     "output_type": "error",
     "traceback": [
      "\u001b[0;31m---------------------------------------------------------------------------\u001b[0m",
      "\u001b[0;31mTypeError\u001b[0m                                 Traceback (most recent call last)",
      "\u001b[1;32m/Users/russellsherman/src/github.com/finbotsdev/developer/src/notebooks/examples/oanda/account-instruments.ipynb Cell 3\u001b[0m in \u001b[0;36m<cell line: 1>\u001b[0;34m()\u001b[0m\n\u001b[0;32m----> <a href='vscode-notebook-cell:/Users/russellsherman/src/github.com/finbotsdev/developer/src/notebooks/examples/oanda/account-instruments.ipynb#W2sZmlsZQ%3D%3D?line=0'>1</a>\u001b[0m instruments_list \u001b[39m=\u001b[39m client\u001b[39m.\u001b[39;49mget_account_instruments()\n",
      "File \u001b[0;32m~/src/github.com/finbotsdev/developer/src/notebooks/examples/oanda/../../fxtrade/broker/oanda.py:44\u001b[0m, in \u001b[0;36mOanda.get_account_instruments\u001b[0;34m(self)\u001b[0m\n\u001b[1;32m     42\u001b[0m data \u001b[39m=\u001b[39m \u001b[39mself\u001b[39m\u001b[39m.\u001b[39mrequest(\u001b[39mf\u001b[39m\u001b[39m\"\u001b[39m\u001b[39maccounts/\u001b[39m\u001b[39m{\u001b[39;00m\u001b[39mself\u001b[39m\u001b[39m.\u001b[39maccount_id\u001b[39m}\u001b[39;00m\u001b[39m/instruments\u001b[39m\u001b[39m\"\u001b[39m)\n\u001b[1;32m     43\u001b[0m \u001b[39mprint\u001b[39m(data)\n\u001b[0;32m---> 44\u001b[0m \u001b[39mreturn\u001b[39;00m data[\u001b[39m'\u001b[39;49m\u001b[39minstruments\u001b[39;49m\u001b[39m'\u001b[39;49m]\n",
      "\u001b[0;31mTypeError\u001b[0m: tuple indices must be integers or slices, not str"
     ]
    }
   ],
   "source": [
    "instruments_list = client.get_account_instruments()"
   ]
  },
  {
   "cell_type": "code",
   "execution_count": null,
   "id": "6f9bf8f2-4829-48c4-9ac2-8c7ea668e252",
   "metadata": {},
   "outputs": [
    {
     "name": "stdout",
     "output_type": "stream",
     "text": [
      "68\n"
     ]
    }
   ],
   "source": [
    "print(len(instruments_list))"
   ]
  },
  {
   "cell_type": "code",
   "execution_count": null,
   "id": "1cf0881c-b9a5-4af1-b19f-a9c0b9d78149",
   "metadata": {},
   "outputs": [
    {
     "data": {
      "text/plain": [
       "dict_keys(['name', 'type', 'displayName', 'pipLocation', 'displayPrecision', 'tradeUnitsPrecision', 'minimumTradeSize', 'maximumTrailingStopDistance', 'minimumTrailingStopDistance', 'maximumPositionSize', 'maximumOrderUnits', 'marginRate', 'guaranteedStopLossOrderMode', 'tags', 'financing'])"
      ]
     },
     "execution_count": 30,
     "metadata": {},
     "output_type": "execute_result"
    }
   ],
   "source": [
    "instruments_list[0].keys()"
   ]
  },
  {
   "cell_type": "code",
   "execution_count": null,
   "id": "ffe080a7-3473-49f4-8794-658d7c51c2ed",
   "metadata": {},
   "outputs": [],
   "source": [
    "key_i = ['name', 'type', 'displayName', 'pipLocation',\n",
    "         'displayPrecision', 'tradeUnitsPrecision', 'marginRate']"
   ]
  },
  {
   "cell_type": "code",
   "execution_count": null,
   "id": "53eb4a98-5cd2-4314-907e-752133a8fb35",
   "metadata": {},
   "outputs": [],
   "source": [
    "instruments_dict = {}\n",
    "for i in instruments_list:\n",
    "    key = i['name']\n",
    "    instruments_dict[key] = { k: i[k] for k in key_i }"
   ]
  },
  {
   "cell_type": "code",
   "execution_count": null,
   "id": "840bf9c3-d9a9-4884-b187-90ba7e46310f",
   "metadata": {},
   "outputs": [
    {
     "data": {
      "text/plain": [
       "{'name': 'EUR_USD',\n",
       " 'type': 'CURRENCY',\n",
       " 'displayName': 'EUR/USD',\n",
       " 'pipLocation': -4,\n",
       " 'displayPrecision': 5,\n",
       " 'tradeUnitsPrecision': 0,\n",
       " 'marginRate': '0.02'}"
      ]
     },
     "execution_count": 33,
     "metadata": {},
     "output_type": "execute_result"
    }
   ],
   "source": [
    "instruments_dict['EUR_USD']"
   ]
  },
  {
   "cell_type": "code",
   "execution_count": null,
   "id": "1cfa016f-fe78-4305-9752-0686d92ed501",
   "metadata": {},
   "outputs": [
    {
     "data": {
      "text/plain": [
       "0.0001"
      ]
     },
     "execution_count": 34,
     "metadata": {},
     "output_type": "execute_result"
    }
   ],
   "source": [
    "# -4 -> 0.0001\n",
    "pow(10, -4)"
   ]
  },
  {
   "cell_type": "code",
   "execution_count": null,
   "id": "89f42fa2-8095-4570-88ee-65f1a870ae92",
   "metadata": {},
   "outputs": [],
   "source": [
    "with open(\"../../data/instruments.json\", \"w\") as f:\n",
    "    f.write(json.dumps(instruments_dict, indent=2))"
   ]
  }
 ],
 "metadata": {
  "kernelspec": {
   "display_name": "Python 3 (ipykernel)",
   "language": "python",
   "name": "python3"
  },
  "language_info": {
   "codemirror_mode": {
    "name": "ipython",
    "version": 3
   },
   "file_extension": ".py",
   "mimetype": "text/x-python",
   "name": "python",
   "nbconvert_exporter": "python",
   "pygments_lexer": "ipython3",
   "version": "3.10.6"
  },
  "vscode": {
   "interpreter": {
    "hash": "4799b8e3a2443ccb05224eac94491c60a9b3b2e75a6f2647ff33a13666221fca"
   }
  }
 },
 "nbformat": 4,
 "nbformat_minor": 5
}
