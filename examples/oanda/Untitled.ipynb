{
 "cells": [
  {
   "cell_type": "code",
   "execution_count": 3,
   "id": "3104c42e-fa31-4074-b880-865afc20dbcc",
   "metadata": {},
   "outputs": [],
   "source": [
    "import sys\n",
    "sys.path.append('../../')\n",
    "from fxtrade.collections.instrument import instrumentCollection"
   ]
  },
  {
   "cell_type": "code",
   "execution_count": 4,
   "id": "af308eb7-d3e7-4bc0-9bba-15497f1772c3",
   "metadata": {},
   "outputs": [
    {
     "data": {
      "text/plain": [
       "<fxtrade.collections.instrument.InstrumentCollection at 0x7f84aacc1240>"
      ]
     },
     "execution_count": 4,
     "metadata": {},
     "output_type": "execute_result"
    }
   ],
   "source": [
    "instrumentCollection"
   ]
  }
 ],
 "metadata": {
  "kernelspec": {
   "display_name": "Python 3 (ipykernel)",
   "language": "python",
   "name": "python3"
  },
  "language_info": {
   "codemirror_mode": {
    "name": "ipython",
    "version": 3
   },
   "file_extension": ".py",
   "mimetype": "text/x-python",
   "name": "python",
   "nbconvert_exporter": "python",
   "pygments_lexer": "ipython3",
   "version": "3.10.5"
  }
 },
 "nbformat": 4,
 "nbformat_minor": 5
}
