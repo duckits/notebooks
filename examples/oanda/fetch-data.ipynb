{
 "cells": [
  {
   "cell_type": "code",
   "execution_count": 1,
   "id": "eb9a0d6c",
   "metadata": {},
   "outputs": [],
   "source": [
    "import sys\n",
    "sys.path.append('../../')\n",
    "from fxtrade.broker.oanda import Oanda\n",
    "\n",
    "import pandas as pd\n",
    "import json\n",
    "from dateutil import parser"
   ]
  },
  {
   "cell_type": "code",
   "execution_count": 2,
   "id": "1969273d-32bc-4f13-84d4-7dd82e41425b",
   "metadata": {},
   "outputs": [],
   "source": [
    "def fetch_candles(instrument, count=10, granularity=\"H1\"):\n",
    "    client = Oanda()\n",
    "    params = dict(\n",
    "        count = count,\n",
    "        granularity = granularity,\n",
    "        price = \"MBA\"\n",
    "    )\n",
    "    return client.get_instrument_candles(instrument, params)\n",
    "\n",
    "def get_candles_df(data):\n",
    "    if len(data) == 0:\n",
    "        return pd.DataFrame.empty\n",
    "    \n",
    "    prices = ['mid', 'bid', 'ask']\n",
    "    ohlc = ['o', 'h', 'l', 'c']\n",
    "    \n",
    "    final_data = []\n",
    "    for candle in data:\n",
    "        if candle['complete'] == False:\n",
    "            continue\n",
    "        new_dict = {}\n",
    "        new_dict['time'] = parser.parse(candle['time'])\n",
    "        new_dict['volume'] = candle['volume']\n",
    "        for p in prices:\n",
    "            for o in ohlc:\n",
    "                new_dict[f\"{p}_{o}\"] = float(candle[p][o])\n",
    "        final_data.append(new_dict)\n",
    "    df = pd.DataFrame.from_dict(final_data)\n",
    "    return df\n",
    "\n",
    "def create_data_file(instrument, count=10, granularity=\"H1\"):\n",
    "    data = fetch_candles(instrument, count, granularity)\n",
    "    if len(data) == 0:\n",
    "        print(\"No candles\", pair_name)\n",
    "    candles_df = get_candles_df(data['candles'])\n",
    "    candles_df.to_pickle(f\"../../data/{pair_name}_{granularity}.pkl\")\n",
    "    print(f\"{pair_name} {granularity} {candles_df.shape[0]} candles, {candles_df.time.min()} {candles_df.time.max()}\")\n",
    "    "
   ]
  },
  {
   "cell_type": "code",
   "execution_count": null,
   "id": "f4f4daca-48c0-49f2-ac63-e7862ff740ab",
   "metadata": {},
   "outputs": [],
   "source": [
    "data = fetch_candles(\"EUR_USD\", count=10, granularity=\"H4\")\n",
    "candles_df = get_candles_df(data['candles'])\n",
    "print(candles_df)"
   ]
  },
  {
   "cell_type": "code",
   "execution_count": null,
   "id": "eba4c21e",
   "metadata": {},
   "outputs": [],
   "source": [
    "create_data_file(\"EUR_USD\", count=10, granularity=\"H4\")"
   ]
  },
  {
   "cell_type": "code",
   "execution_count": null,
   "id": "9c359733",
   "metadata": {},
   "outputs": [],
   "source": [
    "our_curr = ['EUR', 'USD', 'GBP', 'JPY', 'CHF', 'NZD', 'CAD', 'AUD']"
   ]
  },
  {
   "cell_type": "code",
   "execution_count": null,
   "id": "24449925-e9cd-4e55-aeec-5dd03f1640cd",
   "metadata": {},
   "outputs": [],
   "source": [
    "f = open(\"../../data/instruments.json\", \"r\")\n",
    "instruments_dict = json.loads(f.read())"
   ]
  },
  {
   "cell_type": "code",
   "execution_count": 33,
   "id": "36c29996",
   "metadata": {},
   "outputs": [
    {
     "name": "stdout",
     "output_type": "stream",
     "text": [
      "EUR_USD H1 4999 candles, 2021-10-27 00:00:00+00:00 2022-08-15 11:00:00+00:00\n",
      "EUR_USD H4 4999 candles, 2019-05-30 09:00:00+00:00 2022-08-15 05:00:00+00:00\n",
      "EUR_GBP H1 4999 candles, 2021-10-26 22:00:00+00:00 2022-08-15 11:00:00+00:00\n",
      "EUR_GBP H4 4999 candles, 2019-05-30 17:00:00+00:00 2022-08-15 05:00:00+00:00\n",
      "EUR_JPY H1 4999 candles, 2021-10-26 16:00:00+00:00 2022-08-15 11:00:00+00:00\n",
      "EUR_JPY H4 4999 candles, 2019-05-30 05:00:00+00:00 2022-08-15 05:00:00+00:00\n",
      "EUR_CHF H1 4999 candles, 2021-10-27 01:00:00+00:00 2022-08-15 11:00:00+00:00\n",
      "EUR_CHF H4 4999 candles, 2019-05-30 13:00:00+00:00 2022-08-15 05:00:00+00:00\n",
      "EUR_NZD H1 4999 candles, 2021-10-27 00:00:00+00:00 2022-08-15 11:00:00+00:00\n",
      "EUR_NZD H4 4999 candles, 2019-05-30 21:00:00+00:00 2022-08-15 05:00:00+00:00\n",
      "EUR_CAD H1 4999 candles, 2021-10-27 01:00:00+00:00 2022-08-15 11:00:00+00:00\n",
      "EUR_CAD H4 4999 candles, 2019-05-30 09:00:00+00:00 2022-08-15 05:00:00+00:00\n",
      "EUR_AUD H1 4999 candles, 2021-10-26 23:00:00+00:00 2022-08-15 11:00:00+00:00\n",
      "EUR_AUD H4 4999 candles, 2019-05-30 13:00:00+00:00 2022-08-15 05:00:00+00:00\n",
      "USD_JPY H1 4999 candles, 2021-10-27 00:00:00+00:00 2022-08-15 11:00:00+00:00\n",
      "USD_JPY H4 4999 candles, 2019-06-03 09:00:00+00:00 2022-08-15 05:00:00+00:00\n",
      "USD_CHF H1 4999 candles, 2021-10-26 20:00:00+00:00 2022-08-15 11:00:00+00:00\n",
      "USD_CHF H4 4999 candles, 2019-05-31 09:00:00+00:00 2022-08-15 05:00:00+00:00\n",
      "USD_CAD H1 4999 candles, 2021-10-27 01:00:00+00:00 2022-08-15 11:00:00+00:00\n",
      "USD_CAD H4 4999 candles, 2019-06-04 05:00:00+00:00 2022-08-15 05:00:00+00:00\n",
      "GBP_USD H1 4999 candles, 2021-10-27 00:00:00+00:00 2022-08-15 11:00:00+00:00\n",
      "GBP_USD H4 4999 candles, 2019-05-30 21:00:00+00:00 2022-08-15 05:00:00+00:00\n",
      "GBP_JPY H1 4999 candles, 2021-10-27 01:00:00+00:00 2022-08-15 11:00:00+00:00\n",
      "GBP_JPY H4 4999 candles, 2019-05-31 01:00:00+00:00 2022-08-15 05:00:00+00:00\n",
      "GBP_CHF H1 4999 candles, 2021-10-27 01:00:00+00:00 2022-08-15 11:00:00+00:00\n",
      "GBP_CHF H4 4999 candles, 2019-05-31 01:00:00+00:00 2022-08-15 05:00:00+00:00\n",
      "GBP_NZD H1 4999 candles, 2021-10-27 00:00:00+00:00 2022-08-15 11:00:00+00:00\n",
      "GBP_NZD H4 4999 candles, 2019-05-31 01:00:00+00:00 2022-08-15 05:00:00+00:00\n",
      "GBP_CAD H1 4999 candles, 2021-10-27 01:00:00+00:00 2022-08-15 11:00:00+00:00\n",
      "GBP_CAD H4 4999 candles, 2019-05-31 01:00:00+00:00 2022-08-15 05:00:00+00:00\n",
      "GBP_AUD H1 4999 candles, 2021-10-27 00:00:00+00:00 2022-08-15 11:00:00+00:00\n",
      "GBP_AUD H4 4999 candles, 2019-05-30 05:00:00+00:00 2022-08-15 05:00:00+00:00\n",
      "CHF_JPY H1 4999 candles, 2021-10-27 01:00:00+00:00 2022-08-15 11:00:00+00:00\n",
      "CHF_JPY H4 4999 candles, 2019-05-30 17:00:00+00:00 2022-08-15 05:00:00+00:00\n",
      "NZD_USD H1 4999 candles, 2021-10-26 21:00:00+00:00 2022-08-15 11:00:00+00:00\n",
      "NZD_USD H4 4999 candles, 2019-06-02 21:00:00+00:00 2022-08-15 05:00:00+00:00\n",
      "NZD_JPY H1 4999 candles, 2021-10-27 00:00:00+00:00 2022-08-15 11:00:00+00:00\n",
      "NZD_JPY H4 4999 candles, 2019-06-03 13:00:00+00:00 2022-08-15 05:00:00+00:00\n",
      "NZD_CHF H1 4999 candles, 2021-10-26 18:00:00+00:00 2022-08-15 11:00:00+00:00\n",
      "NZD_CHF H4 4999 candles, 2019-05-31 17:00:00+00:00 2022-08-15 05:00:00+00:00\n",
      "NZD_CAD H1 4999 candles, 2021-10-27 00:00:00+00:00 2022-08-15 11:00:00+00:00\n",
      "NZD_CAD H4 4999 candles, 2019-06-03 01:00:00+00:00 2022-08-15 05:00:00+00:00\n",
      "CAD_JPY H1 4999 candles, 2021-10-27 01:00:00+00:00 2022-08-15 11:00:00+00:00\n",
      "CAD_JPY H4 4999 candles, 2019-05-30 13:00:00+00:00 2022-08-15 05:00:00+00:00\n",
      "CAD_CHF H1 4999 candles, 2021-10-27 01:00:00+00:00 2022-08-15 11:00:00+00:00\n",
      "CAD_CHF H4 4999 candles, 2019-05-30 09:00:00+00:00 2022-08-15 05:00:00+00:00\n",
      "AUD_USD H1 4999 candles, 2021-10-26 19:00:00+00:00 2022-08-15 11:00:00+00:00\n",
      "AUD_USD H4 4999 candles, 2019-05-30 05:00:00+00:00 2022-08-15 05:00:00+00:00\n",
      "AUD_JPY H1 4999 candles, 2021-10-27 11:00:00+00:00 2022-08-15 11:00:00+00:00\n",
      "AUD_JPY H4 4999 candles, 2019-05-31 09:00:00+00:00 2022-08-15 05:00:00+00:00\n",
      "AUD_CHF H1 4999 candles, 2021-10-26 18:00:00+00:00 2022-08-15 11:00:00+00:00\n",
      "AUD_CHF H4 4999 candles, 2019-05-30 01:00:00+00:00 2022-08-15 05:00:00+00:00\n",
      "AUD_NZD H1 4999 candles, 2021-10-26 18:00:00+00:00 2022-08-15 11:00:00+00:00\n",
      "AUD_NZD H4 4999 candles, 2019-05-30 05:00:00+00:00 2022-08-15 05:00:00+00:00\n",
      "AUD_CAD H1 4999 candles, 2021-10-27 01:00:00+00:00 2022-08-15 11:00:00+00:00\n",
      "AUD_CAD H4 4999 candles, 2019-05-30 09:00:00+00:00 2022-08-15 05:00:00+00:00\n"
     ]
    }
   ],
   "source": [
    "for p1 in our_curr:\n",
    "    for p2 in our_curr:\n",
    "        pr = f\"{p1}_{p2}\"\n",
    "        if pr in instruments_dict:\n",
    "            for g in [\"H1\", \"H4\"]:\n",
    "                create_data_file(pr, count=5000, granularity=g)"
   ]
  },
  {
   "cell_type": "code",
   "execution_count": null,
   "id": "dd318818-d08d-4fdb-a50d-c1baa8ba5a65",
   "metadata": {},
   "outputs": [],
   "source": []
  }
 ],
 "metadata": {
  "kernelspec": {
   "display_name": "Python 3 (ipykernel)",
   "language": "python",
   "name": "python3"
  },
  "language_info": {
   "codemirror_mode": {
    "name": "ipython",
    "version": 3
   },
   "file_extension": ".py",
   "mimetype": "text/x-python",
   "name": "python",
   "nbconvert_exporter": "python",
   "pygments_lexer": "ipython3",
   "version": "3.10.5"
  },
  "vscode": {
   "interpreter": {
    "hash": "4799b8e3a2443ccb05224eac94491c60a9b3b2e75a6f2647ff33a13666221fca"
   }
  }
 },
 "nbformat": 4,
 "nbformat_minor": 5
}
