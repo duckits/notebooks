{
 "cells": [
  {
   "cell_type": "code",
   "execution_count": 1,
   "id": "de41cba6-7e12-461f-9880-b1a35422ce89",
   "metadata": {},
   "outputs": [],
   "source": [
    "import sys\n",
    "sys.path.append('../../')\n",
    "from fxtrade.broker.oanda import Oanda"
   ]
  },
  {
   "cell_type": "code",
   "execution_count": 2,
   "id": "fb3d8abe-6458-446d-b388-38149dccbece",
   "metadata": {},
   "outputs": [],
   "source": [
    "client = Oanda()"
   ]
  },
  {
   "cell_type": "code",
   "execution_count": null,
   "id": "bd2e63c2-fa49-41bb-acda-c7f7b462152e",
   "metadata": {},
   "outputs": [
    {
     "name": "stdout",
     "output_type": "stream",
     "text": [
      "https://api-fxpractice.oanda.com/v3/accounts\n"
     ]
    }
   ],
   "source": [
    "print(client.get_accounts())"
   ]
  },
  {
   "cell_type": "code",
   "execution_count": null,
   "id": "4bdc7217-bd12-4b18-babe-a1fa31a2e3d0",
   "metadata": {},
   "outputs": [],
   "source": []
  }
 ],
 "metadata": {
  "kernelspec": {
   "display_name": "Python 3 (ipykernel)",
   "language": "python",
   "name": "python3"
  },
  "language_info": {
   "codemirror_mode": {
    "name": "ipython",
    "version": 3
   },
   "file_extension": ".py",
   "mimetype": "text/x-python",
   "name": "python",
   "nbconvert_exporter": "python",
   "pygments_lexer": "ipython3",
   "version": "3.10.5"
  },
  "vscode": {
   "interpreter": {
    "hash": "4799b8e3a2443ccb05224eac94491c60a9b3b2e75a6f2647ff33a13666221fca"
   }
  }
 },
 "nbformat": 4,
 "nbformat_minor": 5
}
